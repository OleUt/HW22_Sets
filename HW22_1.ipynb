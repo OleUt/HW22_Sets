{
 "cells": [
  {
   "cell_type": "code",
   "execution_count": 1,
   "id": "a82d017c-242d-4c99-a6e3-0ad6e2ed8a15",
   "metadata": {
    "tags": []
   },
   "outputs": [],
   "source": [
    "def sets(r):\n",
    "    s = []\n",
    "    for i in range(r):\n",
    "        s.append(i+1)\n",
    "    s = set(s)\n",
    "    return s"
   ]
  },
  {
   "cell_type": "code",
   "execution_count": 2,
   "id": "b8dbe286-f4c2-4359-b2b4-682902adf4c7",
   "metadata": {
    "tags": []
   },
   "outputs": [
    {
     "name": "stdout",
     "output_type": "stream",
     "text": [
      "math set =  {1, 2, 3, 4, 5, 6, 7, 8, 9, 10, 11, 12, 13, 14, 15}\n",
      "phys set =  {1, 2, 3, 4, 5, 6, 7, 8, 9, 10, 11, 12, 13, 14, 15, 16}\n",
      "chem set =  {1, 2, 3, 4, 5, 6, 7, 8, 9, 10, 11, 12, 13, 14, 15, 16, 17, 18, 19}\n",
      "math+phys set  {1, 2, 3, 4, 5, 6, 7}\n",
      "math+chem set  {1, 2, 3, 4, 5, 6, 7, 8, 9}\n",
      "phys+chem set  {1, 2, 3, 4, 5, 6}\n",
      "math+phys+chem set  {1, 2, 3, 4}\n"
     ]
    }
   ],
   "source": [
    "m = sets(15)                    # math \n",
    "p = sets(16)                    # physics \n",
    "c = sets(19)                    # chemistry \n",
    "print('math set = ', m) \n",
    "print('phys set = ', p)\n",
    "print('chem set = ', c)\n",
    "\n",
    "mp = sets(7)                    # math_phys\n",
    "mc = sets(9)                    # math_chem\n",
    "pc = sets(6)                    # phys_chem\n",
    "print('math+phys set ', mp)\n",
    "print('math+chem set ', mc)\n",
    "print('phys+chem set ', pc)\n",
    "\n",
    "mpc = sets(4)                   # math_phys_chem \n",
    "print('math+phys+chem set ', mpc)"
   ]
  },
  {
   "cell_type": "code",
   "execution_count": 3,
   "id": "11a6be6d-4db1-4ced-9eec-02127e986455",
   "metadata": {
    "tags": []
   },
   "outputs": [
    {
     "name": "stdout",
     "output_type": "stream",
     "text": [
      "mpc lenth =  4\n",
      "m-mpc lenth =  11\n",
      "p-mpc lenth =  12\n",
      "c-mpc lenth =  15\n",
      "mp-mpc lenth =  3\n",
      "mc-mpc lenth =  5\n",
      "pc-mpc lenth =  2\n",
      "m-mp-mc-mpc lenth =  3\n",
      "p-mp-pc-mpc lenth =  7\n",
      "c-mc-pc-mpc lenth =  8\n"
     ]
    }
   ],
   "source": [
    "mpc_len = len(mpc)\n",
    "print('mpc lenth = ', mpc_len)\n",
    "\n",
    "m_mpc_len = len(m - m.intersection(mpc))\n",
    "p_mpc_len = len(p - p.intersection(mpc))\n",
    "c_mpc_len = len(c - c.intersection(mpc))\n",
    "print('m-mpc lenth = ', m_mpc_len)\n",
    "print('p-mpc lenth = ', p_mpc_len)\n",
    "print('c-mpc lenth = ', c_mpc_len)\n",
    "\n",
    "mp_mpc_len = len(mp - mp.intersection(mpc))\n",
    "mc_mpc_len = len(mc - mc.intersection(mpc))\n",
    "pc_mpc_len = len(pc - pc.intersection(mpc))\n",
    "print('mp-mpc lenth = ', mp_mpc_len)\n",
    "print('mc-mpc lenth = ', mc_mpc_len)\n",
    "print('pc-mpc lenth = ', pc_mpc_len)\n",
    "\n",
    "m_mp_mc_mpc_len = m_mpc_len - mp_mpc_len - mc_mpc_len \n",
    "p_mp_pc_mpc_len = p_mpc_len - mp_mpc_len - pc_mpc_len\n",
    "c_mc_pc_mpc_len = c_mpc_len - mc_mpc_len - pc_mpc_len\n",
    "print('m-mp-mc-mpc lenth = ', m_mp_mc_mpc_len)\n",
    "print('p-mp-pc-mpc lenth = ', p_mp_pc_mpc_len)\n",
    "print('c-mc-pc-mpc lenth = ', c_mc_pc_mpc_len)"
   ]
  },
  {
   "cell_type": "code",
   "execution_count": 4,
   "id": "64a11990-cf3f-4dae-be85-154b405cfdb5",
   "metadata": {
    "tags": []
   },
   "outputs": [
    {
     "name": "stdout",
     "output_type": "stream",
     "text": [
      "no_of_students_with_at_least_one_excellent_grade =  32\n"
     ]
    }
   ],
   "source": [
    "no_of_students_with_at_least_one_excellent_grade = mpc_len + mp_mpc_len + mc_mpc_len + pc_mpc_len + m_mp_mc_mpc_len + p_mp_pc_mpc_len + c_mc_pc_mpc_len\n",
    "print('no_of_students_with_at_least_one_excellent_grade = ', no_of_students_with_at_least_one_excellent_grade)"
   ]
  }
 ],
 "metadata": {
  "kernelspec": {
   "display_name": "Python 3 (ipykernel)",
   "language": "python",
   "name": "python3"
  },
  "language_info": {
   "codemirror_mode": {
    "name": "ipython",
    "version": 3
   },
   "file_extension": ".py",
   "mimetype": "text/x-python",
   "name": "python",
   "nbconvert_exporter": "python",
   "pygments_lexer": "ipython3",
   "version": "3.11.1"
  }
 },
 "nbformat": 4,
 "nbformat_minor": 5
}
