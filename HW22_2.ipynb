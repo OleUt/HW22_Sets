{
 "cells": [
  {
   "cell_type": "code",
   "execution_count": 12,
   "id": "3e5cf9af-2635-480e-a77c-d7b554b2051c",
   "metadata": {
    "tags": []
   },
   "outputs": [],
   "source": [
    "def sets(size):\n",
    "    s = []\n",
    "    for i in range(size):\n",
    "        s.append(i+1)\n",
    "    s = set(s)\n",
    "    return s"
   ]
  },
  {
   "cell_type": "code",
   "execution_count": 13,
   "id": "ae0be675-0c4c-42de-a437-4522d276f540",
   "metadata": {
    "tags": []
   },
   "outputs": [
    {
     "name": "stdout",
     "output_type": "stream",
     "text": [
      "rain set =  {1, 2, 3, 4, 5, 6, 7, 8, 9, 10, 11, 12}\n",
      "wind set =  {1, 2, 3, 4, 5, 6, 7, 8}\n",
      "cold set =  {1, 2, 3, 4}\n",
      "rain+wind set =  {1, 2, 3, 4, 5}\n",
      "rain+cold set =  {1, 2, 3}\n",
      "wind+cold set =  {1, 2}\n",
      "rain+wind+cold set =  {1}\n"
     ]
    }
   ],
   "source": [
    "month = sets(30)\n",
    "\n",
    "r = sets(12)                    # rain \n",
    "w = sets(8)                     # wind \n",
    "c = sets(4)                     # cold \n",
    "print('rain set = ', r) \n",
    "print('wind set = ', w)\n",
    "print('cold set = ', c)\n",
    "\n",
    "rw = sets(5)\n",
    "rc = sets(3)\n",
    "wc = sets(2)\n",
    "print('rain+wind set = ', rw) \n",
    "print('rain+cold set = ', rc)\n",
    "print('wind+cold set = ', wc)\n",
    "\n",
    "rwc = sets(1)\n",
    "print('rain+wind+cold set = ', r) \n"
   ]
  },
  {
   "cell_type": "code",
   "execution_count": 14,
   "id": "d1ac70ff-5d40-446a-a4ed-3257dc16c6f4",
   "metadata": {
    "tags": []
   },
   "outputs": [
    {
     "name": "stdout",
     "output_type": "stream",
     "text": [
      "4 2 1\n"
     ]
    }
   ],
   "source": [
    "rw_rwc_len = len(rw) - len(rwc)\n",
    "rc_rwc_len = len(rc) - len(rwc)\n",
    "wc_rwc_len = len(wc) - len(rwc)\n",
    "print (rw_rwc_len, rc_rwc_len, wc_rwc_len)"
   ]
  },
  {
   "cell_type": "code",
   "execution_count": 15,
   "id": "9d4f30f1-39e9-4681-964e-f2b9c55d0761",
   "metadata": {
    "tags": []
   },
   "outputs": [
    {
     "name": "stdout",
     "output_type": "stream",
     "text": [
      "5 2 0\n"
     ]
    }
   ],
   "source": [
    "r_rwc_rw_rc_len = len(r) - len(rw) - len(rc) + len(rwc)\n",
    "w_rwc_wc_len = len(w) - len(rw) - len(wc) + len(rwc)\n",
    "c_rwc_rc_len = len(c) - len(wc) - len(rc) + len(rwc)\n",
    "print (r_rwc_rw_rc_len, w_rwc_wc_len, c_rwc_rc_len)\n"
   ]
  },
  {
   "cell_type": "code",
   "execution_count": 16,
   "id": "950ab583-bf8c-4005-a5b7-3ab7b25113c3",
   "metadata": {
    "tags": []
   },
   "outputs": [
    {
     "name": "stdout",
     "output_type": "stream",
     "text": [
      "15\n"
     ]
    }
   ],
   "source": [
    "good_weather = len(month) - (r_rwc_rw_rc_len + w_rwc_wc_len + c_rwc_rc_len) - (rw_rwc_len + rc_rwc_len + wc_rwc_len) - len(rwc)\n",
    "print(good_weather)"
   ]
  }
 ],
 "metadata": {
  "kernelspec": {
   "display_name": "Python 3 (ipykernel)",
   "language": "python",
   "name": "python3"
  },
  "language_info": {
   "codemirror_mode": {
    "name": "ipython",
    "version": 3
   },
   "file_extension": ".py",
   "mimetype": "text/x-python",
   "name": "python",
   "nbconvert_exporter": "python",
   "pygments_lexer": "ipython3",
   "version": "3.11.1"
  }
 },
 "nbformat": 4,
 "nbformat_minor": 5
}
